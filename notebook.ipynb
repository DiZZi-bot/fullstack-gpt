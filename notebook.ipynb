{
 "cells": [
  {
   "cell_type": "code",
   "execution_count": 8,
   "metadata": {},
   "outputs": [
    {
     "name": "stdout",
     "output_type": "stream",
     "text": [
      "코드처럼 흘러가는 파이썬의 노래\n",
      "들려오는 듯한 코딩의 소리\n",
      "들여다보면 무한한 세계가 펼쳐져\n",
      "변수와 함수가 춤을 추는 파티\n",
      "\n",
      "들여다보면 논리의 미로\n",
      "들여다보면 알고리즘의 향연\n",
      "한 줄 한 줄 읽어가며\n",
      "문제를 해결하는 즐거움\n",
      "\n",
      "파이썬의 힘을 느껴보면\n",
      "세상은 더 넓고 아름다워지고\n",
      "코드 한 줄 한 줄이\n",
      "작은 기적을 만들어내는 것 같네.이 시는 파이썬이라는 프로그래밍 언어에 대한 찬사를 담고 있습니다. 파이썬은 마치 코드처럼 흘러가며 아름다운 노래를 부르는 것처럼 느껴지고, 코딩을 하면서 무한한 세계를 만나게 됩니다. 변수와 함수가 춤을 추는 파티처럼, 파이썬은 코딩을 즐겁게 만들어줍니다. 논리의 미로와 알고리즘의 향연 속에서 문제를 해결하는 즐거움을 느낄 수 있으며, 파이썬의 힘을 느끼면 세상이 더 아름다워지고 작은 기적을 만들어내는 기분을 느낄 수 있습니다."
     ]
    },
    {
     "data": {
      "text/plain": [
       "AIMessageChunk(content='이 시는 파이썬이라는 프로그래밍 언어에 대한 찬사를 담고 있습니다. 파이썬은 마치 코드처럼 흘러가며 아름다운 노래를 부르는 것처럼 느껴지고, 코딩을 하면서 무한한 세계를 만나게 됩니다. 변수와 함수가 춤을 추는 파티처럼, 파이썬은 코딩을 즐겁게 만들어줍니다. 논리의 미로와 알고리즘의 향연 속에서 문제를 해결하는 즐거움을 느낄 수 있으며, 파이썬의 힘을 느끼면 세상이 더 아름다워지고 작은 기적을 만들어내는 기분을 느낄 수 있습니다.')"
      ]
     },
     "execution_count": 8,
     "metadata": {},
     "output_type": "execute_result"
    }
   ],
   "source": [
    "from langchain.chat_models import ChatOpenAI\n",
    "from langchain.prompts import ChatPromptTemplate\n",
    "from langchain.callbacks import StreamingStdOutCallbackHandler\n",
    "\n",
    "chat = ChatOpenAI(\n",
    "    model=\"gpt-3.5-turbo\",\n",
    "    temperature=0.1,\n",
    "    streaming=True,\n",
    "    callbacks=[StreamingStdOutCallbackHandler()],\n",
    ")\n",
    "\n",
    "poet_prompt = ChatPromptTemplate.from_messages(\n",
    "    [\n",
    "        (\n",
    "            \"system\",\n",
    "            \"프로그래밍 언어의 문법과 구조에서 영감을 받아, 비유적 표현을 사용해 시를 써보세요.\"\n",
    "        ),\n",
    "        (\n",
    "            \"human\",\n",
    "            \"{language}를 주제로 시를 만들어줘.\"\n",
    "        ),\n",
    "    ]\n",
    ")\n",
    "\n",
    "poet_chain = poet_prompt | chat\n",
    "\n",
    "critic_prompt = ChatPromptTemplate.from_messages(\n",
    "    [\n",
    "        (\n",
    "            \"system\",\n",
    "            \"당신은 유명한 문학 평론가입니다. 주어진 시를 해석하고 이를 쉬운 표현으로 설명해주세요.\"\n",
    "        ),\n",
    "        (\n",
    "            \"human\",\n",
    "            \"{poem}\"\n",
    "        ),\n",
    "    ]\n",
    ")\n",
    "\n",
    "critic_chain = critic_prompt | chat\n",
    "\n",
    "final_chain = {\"poem\" : poet_chain} | critic_chain\n",
    "final_chain.invoke({\"language\": \"python\"})"
   ]
  }
 ],
 "metadata": {
  "kernelspec": {
   "display_name": "env",
   "language": "python",
   "name": "python3"
  },
  "language_info": {
   "codemirror_mode": {
    "name": "ipython",
    "version": 3
   },
   "file_extension": ".py",
   "mimetype": "text/x-python",
   "name": "python",
   "nbconvert_exporter": "python",
   "pygments_lexer": "ipython3",
   "version": "3.11.6"
  }
 },
 "nbformat": 4,
 "nbformat_minor": 2
}
